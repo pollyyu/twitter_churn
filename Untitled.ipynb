{
 "cells": [
  {
   "cell_type": "code",
   "execution_count": 1,
   "metadata": {},
   "outputs": [],
   "source": [
    "import os\n",
    "\n",
    "os.chdir('/Users/paulynnyu/twitter/tweepy-bots')\n"
   ]
  },
  {
   "cell_type": "code",
   "execution_count": 2,
   "metadata": {},
   "outputs": [],
   "source": [
    "import tweepy\n",
    "import pickle\n",
    "import json\n",
    "from collections import defaultdict\n",
    "import pandas as pd\n",
    "import numpy as np\n",
    "# tweepy-bots/bots/config.py"
   ]
  },
  {
   "cell_type": "code",
   "execution_count": 3,
   "metadata": {},
   "outputs": [],
   "source": [
    "# config details\n",
    "auth = tweepy.OAuthHandler(\"5SDCerBHlWzSBAzvBXonhZ6Xe\", \"8zeJxu7srcQN6uhQAvcsWXHM8q8pVdzys6g6kfyeQhyVLcdcIR\")\n",
    "auth.set_access_token(\"2263992234-pp4lcAeHd7sYOOrlbjKfCPea7BC4vBr1xZoifce\",\n",
    "    \"RRcgaj400e2ubOFuiy8YwrvTBsjxs19YVhQB1tFYcN5lA\")\n",
    "\n",
    "api = tweepy.API(auth, wait_on_rate_limit=True,wait_on_rate_limit_notify=True, parser=tweepy.parsers.JSONParser())\n"
   ]
  },
  {
   "cell_type": "code",
   "execution_count": 42,
   "metadata": {},
   "outputs": [
    {
     "name": "stderr",
     "output_type": "stream",
     "text": [
      "Rate limit reached. Sleeping for: 712\n"
     ]
    }
   ],
   "source": [
    "# define screen_name\n",
    "screen_name = 'rstudiotips'\n",
    "\n",
    "# get first list\n",
    "first_list = api.followers_ids(screen_name=screen_name)\n",
    "id_list = first_list['ids']\n",
    "cursor = first_list['next_cursor']\n",
    "\n",
    "\n",
    "\n",
    "while cursor != 0:\n",
    "    user_ids = api.followers_ids(screen_name=screen_name, cursor=cursor)\n",
    "    id_list.append(user_ids[0]['ids'])\n",
    "    cursor = user_ids[0]['next_cursor']"
   ]
  },
  {
   "cell_type": "code",
   "execution_count": null,
   "metadata": {},
   "outputs": [],
   "source": [
    "with open('lv_$$_day.pickle', 'wb') as to_write:\n",
    "    pickle.dump(df,to_write)\n"
   ]
  },
  {
   "cell_type": "code",
   "execution_count": 50,
   "metadata": {},
   "outputs": [
    {
     "data": {
      "text/plain": [
       "5000"
      ]
     },
     "execution_count": 50,
     "metadata": {},
     "output_type": "execute_result"
    }
   ],
   "source": [
    "len(total_list[0])"
   ]
  },
  {
   "cell_type": "code",
   "execution_count": 47,
   "metadata": {},
   "outputs": [],
   "source": [
    "total_list = []\n",
    "for i in id_list:\n",
    "    total_list.append(i)"
   ]
  },
  {
   "cell_type": "code",
   "execution_count": 29,
   "metadata": {},
   "outputs": [],
   "source": [
    "user_ids = api.followers_ids(screen_name='rstudiotips')"
   ]
  },
  {
   "cell_type": "code",
   "execution_count": 30,
   "metadata": {},
   "outputs": [
    {
     "data": {
      "text/plain": [
       "1637582871488618799"
      ]
     },
     "execution_count": 30,
     "metadata": {},
     "output_type": "execute_result"
    }
   ],
   "source": [
    "user_ids['next_cursor']"
   ]
  },
  {
   "cell_type": "code",
   "execution_count": 31,
   "metadata": {},
   "outputs": [],
   "source": [
    "next_list = api.followers_ids(screen_name='rstudiotips',cursor=user_ids['next_cursor'])"
   ]
  },
  {
   "cell_type": "code",
   "execution_count": 32,
   "metadata": {},
   "outputs": [
    {
     "data": {
      "text/plain": [
       "1628608453195663292"
      ]
     },
     "execution_count": 32,
     "metadata": {},
     "output_type": "execute_result"
    }
   ],
   "source": [
    "next_list[0]['next_cursor']"
   ]
  },
  {
   "cell_type": "code",
   "execution_count": 33,
   "metadata": {},
   "outputs": [
    {
     "data": {
      "text/plain": [
       "5000"
      ]
     },
     "execution_count": 33,
     "metadata": {},
     "output_type": "execute_result"
    }
   ],
   "source": [
    "len(user_ids['ids'])"
   ]
  },
  {
   "cell_type": "code",
   "execution_count": 34,
   "metadata": {},
   "outputs": [
    {
     "data": {
      "text/plain": [
       "5000"
      ]
     },
     "execution_count": 34,
     "metadata": {},
     "output_type": "execute_result"
    }
   ],
   "source": [
    "len(next_list[0]['ids'])"
   ]
  },
  {
   "cell_type": "code",
   "execution_count": null,
   "metadata": {},
   "outputs": [],
   "source": [
    "def get_details(user_list):\n",
    "    # list of user attributes and post attributes we want to collect\n",
    "    attributes = ['name', 'screen_name', 'location', 'description', 'url', 'protected', 'followers_count', \n",
    "                 'following', 'friends_count', 'listed_count', 'geo_enabled', 'created_at', 'favourites_count',\n",
    "                 'statuses_count', 'contributors_enabled', 'is_translation_enabled', 'has_extended_profile',\n",
    "                 'notifications', 'profile_image_url', 'profile_use_background_image']\n",
    "    post_attrs = ['created_at', 'text', 'source', 'in_reply_to_screen_name', 'retweet_count', 'favorite_count',\n",
    "               'favorited', 'retweeted', 'is_quote_status', 'retweeted_status']\n",
    "    entities_attrs = ['hashtags', 'symbols', 'user_mentions']\n",
    "    users_dict = []\n",
    "    posts_dict = []\n",
    "    \n",
    "    # start looping through our list\n",
    "    for users in user_list:\n",
    "        print(users)\n",
    "        user_dict = defaultdict(list)\n",
    "        post_dict = defaultdict(list)\n",
    "        user_dict['user_id'] = users\n",
    "\n",
    "        try:\n",
    "            timeline = api.user_timeline(user_id=users, count=200) # call api\n",
    "\n",
    "            user_info = timeline[0]['user'] # creating a user_info and post dicts\n",
    "\n",
    "            # looping through each user attribute\n",
    "            for attribute in attributes:\n",
    "                try:\n",
    "                    user_dict[attribute].append(user_info[attribute])\n",
    "\n",
    "                except:\n",
    "                    user_dict[attribute].append(np.nan)\n",
    "\n",
    "            # looping through each post, and each post attribute \n",
    "            for tweets in timeline:\n",
    "                post['user_id'] = user['user_id']\n",
    "\n",
    "                # looping through entities attributes\n",
    "                for attr in entities_attrs:\n",
    "                    try:\n",
    "                        post_dict[attr].append(tweets['entities'][attr])\n",
    "                        attr_name = 'len_' + attr\n",
    "                        post_dict[attr_name].append(len(tweets['entities'][attr]))\n",
    "                    except:\n",
    "                        post_dict[attr].append(np.nan)\n",
    "\n",
    "                # looping through other post attributes\n",
    "                for attr in post_attrs:\n",
    "                    try:\n",
    "                        post_dict[attr].append(tweets[attr])\n",
    "                    except:\n",
    "                        post_dict[attr].append(np.nan)\n",
    "            \n",
    "        except:\n",
    "            user_dict['not_authorized'].append(1)\n",
    "    \n",
    "        \n",
    "        users_dict.append(user_dict)\n",
    "        posts_dict.append(post_dict)\n",
    "\n",
    "    return users_dict, posts_dict"
   ]
  }
 ],
 "metadata": {
  "kernelspec": {
   "display_name": "Python 3",
   "language": "python",
   "name": "python3"
  },
  "language_info": {
   "codemirror_mode": {
    "name": "ipython",
    "version": 3
   },
   "file_extension": ".py",
   "mimetype": "text/x-python",
   "name": "python",
   "nbconvert_exporter": "python",
   "pygments_lexer": "ipython3",
   "version": "3.7.3"
  }
 },
 "nbformat": 4,
 "nbformat_minor": 2
}
